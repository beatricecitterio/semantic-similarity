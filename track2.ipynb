{
 "cells": [
  {
   "cell_type": "markdown",
   "metadata": {},
   "source": [
    "# **Track 2 - Continuous Representation**"
   ]
  },
  {
   "cell_type": "code",
   "execution_count": null,
   "metadata": {},
   "outputs": [],
   "source": [
    "## IMPORTS\n",
    "from sklearn.preprocessing import normalize\n",
    "import warnings\n",
    "warnings.filterwarnings('ignore')\n",
    "from gensim.models import FastText\n",
    "from sklearn.neighbors import NearestNeighbors\n",
    "from nltk.translate.bleu_score import sentence_bleu, SmoothingFunction\n",
    "import pandas as pd\n",
    "import numpy as np\n",
    "from tqdm import tqdm"
   ]
  },
  {
   "cell_type": "markdown",
   "metadata": {},
   "source": [
    "## **FastText**"
   ]
  },
  {
   "cell_type": "markdown",
   "metadata": {},
   "source": [
    "This is the code that should be used to reproduce the results."
   ]
  },
  {
   "cell_type": "code",
   "execution_count": 2,
   "metadata": {},
   "outputs": [],
   "source": [
    "## LOAD THE DATA\n",
    "dev_df = pd.read_csv('dev_responses.csv')\n",
    "train_df = pd.read_csv('train_responses.csv')\n",
    "\n",
    "## REMOVE INVALID RESPONSES\n",
    "train_df = train_df[\n",
    "    train_df['model_response'].astype(str).str.strip().replace(r'^\\W*$', '', regex=True) != ''\n",
    "].reset_index(drop=True)\n",
    "\n",
    "## TOKENIZE THE DATA\n",
    "train_tokens = [str(p).split() for p in train_df['user_prompt']]\n",
    "dev_tokens = [str(p).split() for p in dev_df['user_prompt']]\n"
   ]
  },
  {
   "cell_type": "code",
   "execution_count": 3,
   "metadata": {},
   "outputs": [],
   "source": [
    "## BLEU SCORE CALCULATION\n",
    "smoother = SmoothingFunction().method3\n",
    "def evaluate_bleu(dev_df, retrieved_responses):\n",
    "    scores = []\n",
    "    for i in range(len(dev_df)):\n",
    "        ref = str(dev_df.loc[i, 'model_response']).split()\n",
    "        hyp = str(retrieved_responses[i]).split()\n",
    "        score = sentence_bleu([ref], hyp, weights=(0.5, 0.5, 0, 0), smoothing_function=smoother)\n",
    "        scores.append(score)\n",
    "    return np.mean(scores)"
   ]
  },
  {
   "cell_type": "code",
   "execution_count": 7,
   "metadata": {},
   "outputs": [],
   "source": [
    "## FASTTEXT WITH OPTIMAL PARAMETERS\n",
    "model = FastText(\n",
    "        sentences=train_tokens,\n",
    "        vector_size=100,\n",
    "        window=10,\n",
    "        min_count=1,\n",
    "        workers=4,\n",
    "        epochs=100,\n",
    "        sg=1\n",
    "    )"
   ]
  },
  {
   "cell_type": "code",
   "execution_count": 10,
   "metadata": {},
   "outputs": [],
   "source": [
    "## CONVERT TOKENIZED TEXT INTO VECTOR EMBEDDINGS\n",
    "def get_vec(tokens):\n",
    "    ''' \n",
    "    For each token (word) in tokens, if the word exists in the FastText vocabulary (model.wv), get its vector.\n",
    "    Then, if any valid vectors were found, return their mean (i.e. sentence embedding). \n",
    "    Otherwise, return a zero vector.\n",
    "    '''\n",
    "    vecs = [model.wv[word] for word in tokens if word in model.wv]\n",
    "    return np.mean(vecs, axis=0) if vecs else np.zeros(model.vector_size)\n",
    "\n",
    "train_vecs = np.vstack([get_vec(t) for t in train_tokens])\n",
    "dev_vecs = np.vstack([get_vec(t) for t in dev_tokens])\n",
    "\n",
    "## NORMALIZE\n",
    "train_vecs = normalize(train_vecs)\n",
    "dev_vecs = normalize(dev_vecs)"
   ]
  },
  {
   "cell_type": "code",
   "execution_count": 11,
   "metadata": {},
   "outputs": [
    {
     "name": "stdout",
     "output_type": "stream",
     "text": [
      "Average BLEU: 0.0866\n"
     ]
    }
   ],
   "source": [
    "## FIND MOST SIMILAR PROMPT (using Nearest Neighbors with cosine similarity)\n",
    "nn = NearestNeighbors(n_neighbors=1, algorithm='brute', metric='cosine')\n",
    "nn.fit(train_vecs)\n",
    "_, idxs = nn.kneighbors(dev_vecs)\n",
    "\n",
    "retrieved_responses = [train_df.iloc[i]['model_response'] for i in idxs.flatten()]\n",
    "bleu = evaluate_bleu(dev_df, retrieved_responses)\n",
    "\n",
    "print(f\"Average BLEU: {bleu:.4f}\")"
   ]
  },
  {
   "cell_type": "markdown",
   "metadata": {},
   "source": [
    "### **Hyperparameter Search**"
   ]
  },
  {
   "cell_type": "code",
   "execution_count": null,
   "metadata": {},
   "outputs": [
    {
     "name": "stdout",
     "output_type": "stream",
     "text": [
      "Trying 54 combinations...\n",
      "\n"
     ]
    },
    {
     "name": "stderr",
     "output_type": "stream",
     "text": [
      "Tuning:   2%|▏         | 1/54 [00:12<11:04, 12.55s/it]"
     ]
    },
    {
     "name": "stdout",
     "output_type": "stream",
     "text": [
      "Params: {'vector_size': 100, 'window': 3, 'epochs': 10, 'sg': 0}, BLEU: 0.0577\n"
     ]
    },
    {
     "name": "stderr",
     "output_type": "stream",
     "text": [
      "Tuning:   4%|▎         | 2/54 [00:25<11:01, 12.73s/it]"
     ]
    },
    {
     "name": "stdout",
     "output_type": "stream",
     "text": [
      "Params: {'vector_size': 100, 'window': 3, 'epochs': 10, 'sg': 1}, BLEU: 0.0696\n"
     ]
    },
    {
     "name": "stderr",
     "output_type": "stream",
     "text": [
      "Tuning:   6%|▌         | 3/54 [00:41<12:05, 14.23s/it]"
     ]
    },
    {
     "name": "stdout",
     "output_type": "stream",
     "text": [
      "Params: {'vector_size': 100, 'window': 3, 'epochs': 30, 'sg': 0}, BLEU: 0.0660\n"
     ]
    },
    {
     "name": "stderr",
     "output_type": "stream",
     "text": [
      "Tuning:   7%|▋         | 4/54 [00:59<13:13, 15.87s/it]"
     ]
    },
    {
     "name": "stdout",
     "output_type": "stream",
     "text": [
      "Params: {'vector_size': 100, 'window': 3, 'epochs': 30, 'sg': 1}, BLEU: 0.0783\n"
     ]
    },
    {
     "name": "stderr",
     "output_type": "stream",
     "text": [
      "Tuning:   9%|▉         | 5/54 [01:19<14:08, 17.32s/it]"
     ]
    },
    {
     "name": "stdout",
     "output_type": "stream",
     "text": [
      "Params: {'vector_size': 100, 'window': 3, 'epochs': 50, 'sg': 0}, BLEU: 0.0705\n"
     ]
    },
    {
     "name": "stderr",
     "output_type": "stream",
     "text": [
      "Tuning:  11%|█         | 6/54 [01:45<16:05, 20.12s/it]"
     ]
    },
    {
     "name": "stdout",
     "output_type": "stream",
     "text": [
      "Params: {'vector_size': 100, 'window': 3, 'epochs': 50, 'sg': 1}, BLEU: 0.0822\n"
     ]
    },
    {
     "name": "stderr",
     "output_type": "stream",
     "text": [
      "Tuning:  13%|█▎        | 7/54 [01:57<13:44, 17.55s/it]"
     ]
    },
    {
     "name": "stdout",
     "output_type": "stream",
     "text": [
      "Params: {'vector_size': 100, 'window': 5, 'epochs': 10, 'sg': 0}, BLEU: 0.0573\n"
     ]
    },
    {
     "name": "stderr",
     "output_type": "stream",
     "text": [
      "Tuning:  15%|█▍        | 8/54 [02:10<12:27, 16.25s/it]"
     ]
    },
    {
     "name": "stdout",
     "output_type": "stream",
     "text": [
      "Params: {'vector_size': 100, 'window': 5, 'epochs': 10, 'sg': 1}, BLEU: 0.0724\n"
     ]
    },
    {
     "name": "stderr",
     "output_type": "stream",
     "text": [
      "Tuning:  17%|█▋        | 9/54 [02:27<12:21, 16.49s/it]"
     ]
    },
    {
     "name": "stdout",
     "output_type": "stream",
     "text": [
      "Params: {'vector_size': 100, 'window': 5, 'epochs': 30, 'sg': 0}, BLEU: 0.0669\n"
     ]
    },
    {
     "name": "stderr",
     "output_type": "stream",
     "text": [
      "Tuning:  19%|█▊        | 10/54 [02:48<12:58, 17.69s/it]"
     ]
    },
    {
     "name": "stdout",
     "output_type": "stream",
     "text": [
      "Params: {'vector_size': 100, 'window': 5, 'epochs': 30, 'sg': 1}, BLEU: 0.0809\n"
     ]
    },
    {
     "name": "stderr",
     "output_type": "stream",
     "text": [
      "Tuning:  20%|██        | 11/54 [03:09<13:28, 18.80s/it]"
     ]
    },
    {
     "name": "stdout",
     "output_type": "stream",
     "text": [
      "Params: {'vector_size': 100, 'window': 5, 'epochs': 50, 'sg': 0}, BLEU: 0.0701\n"
     ]
    },
    {
     "name": "stderr",
     "output_type": "stream",
     "text": [
      "Tuning:  22%|██▏       | 12/54 [03:36<14:56, 21.34s/it]"
     ]
    },
    {
     "name": "stdout",
     "output_type": "stream",
     "text": [
      "Params: {'vector_size': 100, 'window': 5, 'epochs': 50, 'sg': 1}, BLEU: 0.0848\n"
     ]
    },
    {
     "name": "stderr",
     "output_type": "stream",
     "text": [
      "Tuning:  24%|██▍       | 13/54 [03:49<12:48, 18.74s/it]"
     ]
    },
    {
     "name": "stdout",
     "output_type": "stream",
     "text": [
      "Params: {'vector_size': 100, 'window': 10, 'epochs': 10, 'sg': 0}, BLEU: 0.0564\n"
     ]
    },
    {
     "name": "stderr",
     "output_type": "stream",
     "text": [
      "Tuning:  26%|██▌       | 14/54 [04:04<11:39, 17.48s/it]"
     ]
    },
    {
     "name": "stdout",
     "output_type": "stream",
     "text": [
      "Params: {'vector_size': 100, 'window': 10, 'epochs': 10, 'sg': 1}, BLEU: 0.0739\n"
     ]
    },
    {
     "name": "stderr",
     "output_type": "stream",
     "text": [
      "Tuning:  28%|██▊       | 15/54 [04:22<11:29, 17.68s/it]"
     ]
    },
    {
     "name": "stdout",
     "output_type": "stream",
     "text": [
      "Params: {'vector_size': 100, 'window': 10, 'epochs': 30, 'sg': 0}, BLEU: 0.0673\n"
     ]
    },
    {
     "name": "stderr",
     "output_type": "stream",
     "text": [
      "Tuning:  30%|██▉       | 16/54 [04:45<12:18, 19.44s/it]"
     ]
    },
    {
     "name": "stdout",
     "output_type": "stream",
     "text": [
      "Params: {'vector_size': 100, 'window': 10, 'epochs': 30, 'sg': 1}, BLEU: 0.0832\n"
     ]
    },
    {
     "name": "stderr",
     "output_type": "stream",
     "text": [
      "Tuning:  31%|███▏      | 17/54 [05:09<12:49, 20.81s/it]"
     ]
    },
    {
     "name": "stdout",
     "output_type": "stream",
     "text": [
      "Params: {'vector_size': 100, 'window': 10, 'epochs': 50, 'sg': 0}, BLEU: 0.0710\n"
     ]
    },
    {
     "name": "stderr",
     "output_type": "stream",
     "text": [
      "Tuning:  33%|███▎      | 18/54 [05:42<14:42, 24.52s/it]"
     ]
    },
    {
     "name": "stdout",
     "output_type": "stream",
     "text": [
      "Params: {'vector_size': 100, 'window': 10, 'epochs': 50, 'sg': 1}, BLEU: 0.0863\n"
     ]
    },
    {
     "name": "stderr",
     "output_type": "stream",
     "text": [
      "Tuning:  35%|███▌      | 19/54 [05:59<12:53, 22.11s/it]"
     ]
    },
    {
     "name": "stdout",
     "output_type": "stream",
     "text": [
      "Params: {'vector_size': 300, 'window': 3, 'epochs': 10, 'sg': 0}, BLEU: 0.0571\n"
     ]
    },
    {
     "name": "stderr",
     "output_type": "stream",
     "text": [
      "Tuning:  37%|███▋      | 20/54 [06:17<11:50, 20.90s/it]"
     ]
    },
    {
     "name": "stdout",
     "output_type": "stream",
     "text": [
      "Params: {'vector_size': 300, 'window': 3, 'epochs': 10, 'sg': 1}, BLEU: 0.0688\n"
     ]
    },
    {
     "name": "stderr",
     "output_type": "stream",
     "text": [
      "Tuning:  39%|███▉      | 21/54 [06:41<12:03, 21.91s/it]"
     ]
    },
    {
     "name": "stdout",
     "output_type": "stream",
     "text": [
      "Params: {'vector_size': 300, 'window': 3, 'epochs': 30, 'sg': 0}, BLEU: 0.0659\n"
     ]
    },
    {
     "name": "stderr",
     "output_type": "stream",
     "text": [
      "Tuning:  41%|████      | 22/54 [07:11<12:58, 24.32s/it]"
     ]
    },
    {
     "name": "stdout",
     "output_type": "stream",
     "text": [
      "Params: {'vector_size': 300, 'window': 3, 'epochs': 30, 'sg': 1}, BLEU: 0.0781\n"
     ]
    },
    {
     "name": "stderr",
     "output_type": "stream",
     "text": [
      "Tuning:  43%|████▎     | 23/54 [07:43<13:44, 26.59s/it]"
     ]
    },
    {
     "name": "stdout",
     "output_type": "stream",
     "text": [
      "Params: {'vector_size': 300, 'window': 3, 'epochs': 50, 'sg': 0}, BLEU: 0.0695\n"
     ]
    },
    {
     "name": "stderr",
     "output_type": "stream",
     "text": [
      "Tuning:  44%|████▍     | 24/54 [08:23<15:12, 30.43s/it]"
     ]
    },
    {
     "name": "stdout",
     "output_type": "stream",
     "text": [
      "Params: {'vector_size': 300, 'window': 3, 'epochs': 50, 'sg': 1}, BLEU: 0.0815\n"
     ]
    },
    {
     "name": "stderr",
     "output_type": "stream",
     "text": [
      "Tuning:  46%|████▋     | 25/54 [08:39<12:44, 26.36s/it]"
     ]
    },
    {
     "name": "stdout",
     "output_type": "stream",
     "text": [
      "Params: {'vector_size': 300, 'window': 5, 'epochs': 10, 'sg': 0}, BLEU: 0.0552\n"
     ]
    },
    {
     "name": "stderr",
     "output_type": "stream",
     "text": [
      "Tuning:  48%|████▊     | 26/54 [08:59<11:22, 24.36s/it]"
     ]
    },
    {
     "name": "stdout",
     "output_type": "stream",
     "text": [
      "Params: {'vector_size': 300, 'window': 5, 'epochs': 10, 'sg': 1}, BLEU: 0.0729\n"
     ]
    },
    {
     "name": "stderr",
     "output_type": "stream",
     "text": [
      "Tuning:  50%|█████     | 27/54 [09:26<11:15, 25.01s/it]"
     ]
    },
    {
     "name": "stdout",
     "output_type": "stream",
     "text": [
      "Params: {'vector_size': 300, 'window': 5, 'epochs': 30, 'sg': 0}, BLEU: 0.0663\n"
     ]
    },
    {
     "name": "stderr",
     "output_type": "stream",
     "text": [
      "Tuning:  52%|█████▏    | 28/54 [09:58<11:51, 27.35s/it]"
     ]
    },
    {
     "name": "stdout",
     "output_type": "stream",
     "text": [
      "Params: {'vector_size': 300, 'window': 5, 'epochs': 30, 'sg': 1}, BLEU: 0.0810\n"
     ]
    },
    {
     "name": "stderr",
     "output_type": "stream",
     "text": [
      "Tuning:  54%|█████▎    | 29/54 [10:34<12:23, 29.73s/it]"
     ]
    },
    {
     "name": "stdout",
     "output_type": "stream",
     "text": [
      "Params: {'vector_size': 300, 'window': 5, 'epochs': 50, 'sg': 0}, BLEU: 0.0698\n"
     ]
    },
    {
     "name": "stderr",
     "output_type": "stream",
     "text": [
      "Tuning:  56%|█████▌    | 30/54 [11:20<13:50, 34.62s/it]"
     ]
    },
    {
     "name": "stdout",
     "output_type": "stream",
     "text": [
      "Params: {'vector_size': 300, 'window': 5, 'epochs': 50, 'sg': 1}, BLEU: 0.0838\n"
     ]
    },
    {
     "name": "stderr",
     "output_type": "stream",
     "text": [
      "Tuning:  57%|█████▋    | 31/54 [11:38<11:21, 29.62s/it]"
     ]
    },
    {
     "name": "stdout",
     "output_type": "stream",
     "text": [
      "Params: {'vector_size': 300, 'window': 10, 'epochs': 10, 'sg': 0}, BLEU: 0.0561\n"
     ]
    },
    {
     "name": "stderr",
     "output_type": "stream",
     "text": [
      "Tuning:  59%|█████▉    | 32/54 [11:59<09:56, 27.11s/it]"
     ]
    },
    {
     "name": "stdout",
     "output_type": "stream",
     "text": [
      "Params: {'vector_size': 300, 'window': 10, 'epochs': 10, 'sg': 1}, BLEU: 0.0741\n"
     ]
    },
    {
     "name": "stderr",
     "output_type": "stream",
     "text": [
      "Tuning:  61%|██████    | 33/54 [12:28<09:44, 27.83s/it]"
     ]
    },
    {
     "name": "stdout",
     "output_type": "stream",
     "text": [
      "Params: {'vector_size': 300, 'window': 10, 'epochs': 30, 'sg': 0}, BLEU: 0.0669\n"
     ]
    },
    {
     "name": "stderr",
     "output_type": "stream",
     "text": [
      "Tuning:  63%|██████▎   | 34/54 [13:08<10:24, 31.22s/it]"
     ]
    },
    {
     "name": "stdout",
     "output_type": "stream",
     "text": [
      "Params: {'vector_size': 300, 'window': 10, 'epochs': 30, 'sg': 1}, BLEU: 0.0831\n"
     ]
    },
    {
     "name": "stderr",
     "output_type": "stream",
     "text": [
      "Tuning:  65%|██████▍   | 35/54 [13:49<10:50, 34.25s/it]"
     ]
    },
    {
     "name": "stdout",
     "output_type": "stream",
     "text": [
      "Params: {'vector_size': 300, 'window': 10, 'epochs': 50, 'sg': 0}, BLEU: 0.0706\n"
     ]
    },
    {
     "name": "stderr",
     "output_type": "stream",
     "text": [
      "Tuning:  67%|██████▋   | 36/54 [14:46<12:21, 41.20s/it]"
     ]
    },
    {
     "name": "stdout",
     "output_type": "stream",
     "text": [
      "Params: {'vector_size': 300, 'window': 10, 'epochs': 50, 'sg': 1}, BLEU: 0.0855\n"
     ]
    },
    {
     "name": "stderr",
     "output_type": "stream",
     "text": [
      "Tuning:  69%|██████▊   | 37/54 [15:11<10:13, 36.11s/it]"
     ]
    },
    {
     "name": "stdout",
     "output_type": "stream",
     "text": [
      "Params: {'vector_size': 512, 'window': 3, 'epochs': 10, 'sg': 0}, BLEU: 0.0562\n"
     ]
    },
    {
     "name": "stderr",
     "output_type": "stream",
     "text": [
      "Tuning:  70%|███████   | 38/54 [15:37<08:50, 33.18s/it]"
     ]
    },
    {
     "name": "stdout",
     "output_type": "stream",
     "text": [
      "Params: {'vector_size': 512, 'window': 3, 'epochs': 10, 'sg': 1}, BLEU: 0.0688\n"
     ]
    },
    {
     "name": "stderr",
     "output_type": "stream",
     "text": [
      "Tuning:  72%|███████▏  | 39/54 [16:11<08:21, 33.41s/it]"
     ]
    },
    {
     "name": "stdout",
     "output_type": "stream",
     "text": [
      "Params: {'vector_size': 512, 'window': 3, 'epochs': 30, 'sg': 0}, BLEU: 0.0655\n"
     ]
    },
    {
     "name": "stderr",
     "output_type": "stream",
     "text": [
      "Tuning:  74%|███████▍  | 40/54 [16:52<08:19, 35.69s/it]"
     ]
    },
    {
     "name": "stdout",
     "output_type": "stream",
     "text": [
      "Params: {'vector_size': 512, 'window': 3, 'epochs': 30, 'sg': 1}, BLEU: 0.0785\n"
     ]
    },
    {
     "name": "stderr",
     "output_type": "stream",
     "text": [
      "Tuning:  76%|███████▌  | 41/54 [17:37<08:20, 38.52s/it]"
     ]
    },
    {
     "name": "stdout",
     "output_type": "stream",
     "text": [
      "Params: {'vector_size': 512, 'window': 3, 'epochs': 50, 'sg': 0}, BLEU: 0.0699\n"
     ]
    },
    {
     "name": "stderr",
     "output_type": "stream",
     "text": [
      "Tuning:  78%|███████▊  | 42/54 [18:32<08:40, 43.40s/it]"
     ]
    },
    {
     "name": "stdout",
     "output_type": "stream",
     "text": [
      "Params: {'vector_size': 512, 'window': 3, 'epochs': 50, 'sg': 1}, BLEU: 0.0821\n"
     ]
    },
    {
     "name": "stderr",
     "output_type": "stream",
     "text": [
      "Tuning:  80%|███████▉  | 43/54 [18:53<06:44, 36.82s/it]"
     ]
    },
    {
     "name": "stdout",
     "output_type": "stream",
     "text": [
      "Params: {'vector_size': 512, 'window': 5, 'epochs': 10, 'sg': 0}, BLEU: 0.0552\n"
     ]
    },
    {
     "name": "stderr",
     "output_type": "stream",
     "text": [
      "Tuning:  81%|████████▏ | 44/54 [19:17<05:30, 33.02s/it]"
     ]
    },
    {
     "name": "stdout",
     "output_type": "stream",
     "text": [
      "Params: {'vector_size': 512, 'window': 5, 'epochs': 10, 'sg': 1}, BLEU: 0.0721\n"
     ]
    },
    {
     "name": "stderr",
     "output_type": "stream",
     "text": [
      "Tuning:  83%|████████▎ | 45/54 [19:52<05:00, 33.43s/it]"
     ]
    },
    {
     "name": "stdout",
     "output_type": "stream",
     "text": [
      "Params: {'vector_size': 512, 'window': 5, 'epochs': 30, 'sg': 0}, BLEU: 0.0661\n"
     ]
    },
    {
     "name": "stderr",
     "output_type": "stream",
     "text": [
      "Tuning:  85%|████████▌ | 46/54 [20:35<04:50, 36.29s/it]"
     ]
    },
    {
     "name": "stdout",
     "output_type": "stream",
     "text": [
      "Params: {'vector_size': 512, 'window': 5, 'epochs': 30, 'sg': 1}, BLEU: 0.0802\n"
     ]
    },
    {
     "name": "stderr",
     "output_type": "stream",
     "text": [
      "Tuning:  87%|████████▋ | 47/54 [21:22<04:37, 39.68s/it]"
     ]
    },
    {
     "name": "stdout",
     "output_type": "stream",
     "text": [
      "Params: {'vector_size': 512, 'window': 5, 'epochs': 50, 'sg': 0}, BLEU: 0.0703\n"
     ]
    },
    {
     "name": "stderr",
     "output_type": "stream",
     "text": [
      "Tuning:  89%|████████▉ | 48/54 [22:24<04:38, 46.34s/it]"
     ]
    },
    {
     "name": "stdout",
     "output_type": "stream",
     "text": [
      "Params: {'vector_size': 512, 'window': 5, 'epochs': 50, 'sg': 1}, BLEU: 0.0845\n"
     ]
    },
    {
     "name": "stderr",
     "output_type": "stream",
     "text": [
      "Tuning:  91%|█████████ | 49/54 [22:47<03:16, 39.34s/it]"
     ]
    },
    {
     "name": "stdout",
     "output_type": "stream",
     "text": [
      "Params: {'vector_size': 512, 'window': 10, 'epochs': 10, 'sg': 0}, BLEU: 0.0542\n"
     ]
    },
    {
     "name": "stderr",
     "output_type": "stream",
     "text": [
      "Tuning:  93%|█████████▎| 50/54 [23:14<02:22, 35.70s/it]"
     ]
    },
    {
     "name": "stdout",
     "output_type": "stream",
     "text": [
      "Params: {'vector_size': 512, 'window': 10, 'epochs': 10, 'sg': 1}, BLEU: 0.0741\n"
     ]
    },
    {
     "name": "stderr",
     "output_type": "stream",
     "text": [
      "Tuning:  94%|█████████▍| 51/54 [23:54<01:50, 36.87s/it]"
     ]
    },
    {
     "name": "stdout",
     "output_type": "stream",
     "text": [
      "Params: {'vector_size': 512, 'window': 10, 'epochs': 30, 'sg': 0}, BLEU: 0.0667\n"
     ]
    },
    {
     "name": "stderr",
     "output_type": "stream",
     "text": [
      "Tuning:  96%|█████████▋| 52/54 [24:47<01:23, 41.60s/it]"
     ]
    },
    {
     "name": "stdout",
     "output_type": "stream",
     "text": [
      "Params: {'vector_size': 512, 'window': 10, 'epochs': 30, 'sg': 1}, BLEU: 0.0827\n"
     ]
    },
    {
     "name": "stderr",
     "output_type": "stream",
     "text": [
      "Tuning:  98%|█████████▊| 53/54 [25:43<00:46, 46.01s/it]"
     ]
    },
    {
     "name": "stdout",
     "output_type": "stream",
     "text": [
      "Params: {'vector_size': 512, 'window': 10, 'epochs': 50, 'sg': 0}, BLEU: 0.0706\n"
     ]
    },
    {
     "name": "stderr",
     "output_type": "stream",
     "text": [
      "Tuning: 100%|██████████| 54/54 [27:02<00:00, 30.05s/it]"
     ]
    },
    {
     "name": "stdout",
     "output_type": "stream",
     "text": [
      "Params: {'vector_size': 512, 'window': 10, 'epochs': 50, 'sg': 1}, BLEU: 0.0855\n",
      "\n",
      "Best BLEU: 0.0863 with params: {'vector_size': 100, 'window': 10, 'epochs': 50, 'sg': 1}\n"
     ]
    },
    {
     "name": "stderr",
     "output_type": "stream",
     "text": [
      "\n"
     ]
    }
   ],
   "source": [
    "# define hyperparameter grid\n",
    "param_grid = [\n",
    "    {'vector_size': v, 'window': w, 'epochs': e, 'sg': s}\n",
    "    for v in [100, 300, 512]\n",
    "    for w in [3, 5, 10]\n",
    "    for e in [10, 30, 50]\n",
    "    for s in [0, 1]\n",
    "]\n",
    "\n",
    "best_bleu = -1\n",
    "best_params = None\n",
    "\n",
    "for params in tqdm(param_grid, desc=\"Tuning\"):\n",
    "    model = FastText(\n",
    "        sentences=train_tokens,\n",
    "        vector_size=params['vector_size'],\n",
    "        window=params['window'],\n",
    "        min_count=1,\n",
    "        workers=4,\n",
    "        epochs=params['epochs'],\n",
    "        sg=params['sg']\n",
    "    )\n",
    "\n",
    "    def get_vec(tokens):\n",
    "        vecs = [model.wv[word] for word in tokens if word in model.wv]\n",
    "        return np.mean(vecs, axis=0) if vecs else np.zeros(model.vector_size)\n",
    "\n",
    "    train_vecs = np.vstack([get_vec(t) for t in train_tokens])\n",
    "    dev_vecs = np.vstack([get_vec(t) for t in dev_tokens])\n",
    "    \n",
    "    train_vecs = normalize(train_vecs)\n",
    "    dev_vecs = normalize(dev_vecs)\n",
    "\n",
    "    nn = NearestNeighbors(n_neighbors=1, algorithm='brute', metric='cosine')\n",
    "    nn.fit(train_vecs)\n",
    "    _, idxs = nn.kneighbors(dev_vecs)\n",
    "\n",
    "    retrieved_responses = [train_df.iloc[i]['model_response'] for i in idxs.flatten()]\n",
    "    bleu = evaluate_bleu(dev_df, retrieved_responses)\n",
    "\n",
    "    print(f\"Params: {params}, BLEU: {bleu:.4f}\")\n",
    "    if bleu > best_bleu:\n",
    "        best_bleu = bleu\n",
    "        best_params = params\n",
    "\n",
    "print(f\"\\nBest BLEU: {best_bleu:.4f} with params: {best_params}\")\n"
   ]
  },
  {
   "cell_type": "markdown",
   "metadata": {},
   "source": [
    "Note that in the section before we increase the number of epochs to 100 since it improves the result."
   ]
  },
  {
   "cell_type": "markdown",
   "metadata": {},
   "source": [
    "### **Create Submission CSV**"
   ]
  },
  {
   "cell_type": "code",
   "execution_count": null,
   "metadata": {},
   "outputs": [],
   "source": [
    "def generate_track2_submission(train_df, dev_df, test_df, output_file='track_2_test.csv'):\n",
    "    combined_df = pd.concat([train_df, dev_df], ignore_index=True)\n",
    "\n",
    "    combined_df = combined_df[\n",
    "        combined_df['model_response'].astype(str).str.strip().replace(r'^\\W*$', '', regex=True) != ''\n",
    "    ].reset_index(drop=True)\n",
    "\n",
    "    combined_tokens = [str(p).split() for p in combined_df['user_prompt']]\n",
    "    test_tokens = [str(p).split() for p in test_df['user_prompt']]\n",
    "\n",
    "    model = FastText(\n",
    "        sentences=combined_tokens,\n",
    "        vector_size=100,\n",
    "        window=10,\n",
    "        min_count=1,\n",
    "        workers=4,\n",
    "        epochs=100,\n",
    "        sg=1\n",
    "    )\n",
    "\n",
    "    def get_vec(tokens):\n",
    "        vecs = [model.wv[word] for word in tokens if word in model.wv]\n",
    "        return np.mean(vecs, axis=0) if vecs else np.zeros(model.vector_size)\n",
    "\n",
    "    combined_vecs = np.vstack([get_vec(t) for t in combined_tokens])\n",
    "    test_vecs = np.vstack([get_vec(t) for t in test_tokens])\n",
    "\n",
    "    combined_vecs = normalize(combined_vecs)\n",
    "    test_vecs = normalize(test_vecs)\n",
    "\n",
    "    nn = NearestNeighbors(n_neighbors=1, algorithm='brute', metric='cosine')\n",
    "    nn.fit(combined_vecs)\n",
    "    _, idxs = nn.kneighbors(test_vecs)\n",
    "\n",
    "    matched_ids = [combined_df.iloc[i]['conversation_id'] for i in idxs.flatten()]\n",
    "    result_df = pd.DataFrame({\n",
    "        'conversation_id': test_df['conversation_id'],\n",
    "        'response_id': matched_ids\n",
    "    })\n",
    "\n",
    "    result_df.to_csv(output_file, index=False)\n",
    "    print(f\"Saved Track 2 submission to: {output_file}\")"
   ]
  },
  {
   "cell_type": "code",
   "execution_count": 13,
   "metadata": {},
   "outputs": [
    {
     "name": "stdout",
     "output_type": "stream",
     "text": [
      "Saved Track 2 submission to: track_2_test.csv\n"
     ]
    }
   ],
   "source": [
    "test_df = pd.read_csv('test_prompts.csv')\n",
    "generate_track2_submission(train_df, dev_df, test_df)"
   ]
  },
  {
   "cell_type": "code",
   "execution_count": null,
   "metadata": {},
   "outputs": [],
   "source": []
  }
 ],
 "metadata": {
  "kernelspec": {
   "display_name": "nlp",
   "language": "python",
   "name": "python3"
  },
  "language_info": {
   "codemirror_mode": {
    "name": "ipython",
    "version": 3
   },
   "file_extension": ".py",
   "mimetype": "text/x-python",
   "name": "python",
   "nbconvert_exporter": "python",
   "pygments_lexer": "ipython3",
   "version": "3.12.9"
  }
 },
 "nbformat": 4,
 "nbformat_minor": 2
}
